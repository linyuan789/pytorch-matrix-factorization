{
 "cells": [
  {
   "cell_type": "code",
   "execution_count": 2,
   "metadata": {
    "execution": {
     "iopub.execute_input": "2021-03-26T01:09:38.264060Z",
     "iopub.status.busy": "2021-03-26T01:09:38.262933Z",
     "iopub.status.idle": "2021-03-26T01:09:41.386942Z",
     "shell.execute_reply": "2021-03-26T01:09:41.387507Z"
    },
    "papermill": {
     "duration": 3.143526,
     "end_time": "2021-03-26T01:09:41.387901",
     "exception": false,
     "start_time": "2021-03-26T01:09:38.244375",
     "status": "completed"
    },
    "tags": []
   },
   "outputs": [],
   "source": [
    "import os\n",
    "import csv\n",
    "import pandas as pd\n",
    "import random\n",
    "import numpy as np\n",
    "from sklearn.model_selection import train_test_split\n",
    "from tqdm import tqdm\n",
    "\n",
    "import torch\n",
    "from torch import nn, optim\n",
    "from torch.utils.data import Dataset\n",
    "from torch.utils.data import DataLoader\n",
    "\n",
    "DATA_DIR = './archive/ml-100k'\n",
    "OUTPUT_DIR = './'\n",
    "\n",
    "class Config:\n",
    "    device='cpu'\n",
    "    epochs=40\n",
    "    seed=17\n",
    "    train_bs=8\n",
    "    valid_bs=8\n",
    "    embedding_dim=20\n",
    "    lr=1e-2\n",
    "    num_workers=None       \n",
    "    verbose_step=100\n",
    "    \n",
    "def torch_seed_everything(seed_value=777):\n",
    "    random.seed(seed_value)\n",
    "    np.random.seed(seed_value)\n",
    "    torch.manual_seed(seed_value)\n",
    "    os.environ['PYTHONHASHSEED'] = str(seed_value)\n",
    "\n",
    "    if torch.cuda.is_available():\n",
    "        torch.cuda.manual_seed(seed_value)\n",
    "        torch.cuda.manual_seed_all(seed_value)\n",
    "        torch.backends.cudnn.deterministic = True\n",
    "        torch.backends.cudnn.benchmark = True\n",
    "\n",
    "config=Config()\n",
    "torch_seed_everything(config.seed)"
   ]
  },
  {
   "cell_type": "markdown",
   "metadata": {
    "papermill": {
     "duration": 0.012853,
     "end_time": "2021-03-26T01:09:41.413531",
     "exception": false,
     "start_time": "2021-03-26T01:09:41.400678",
     "status": "completed"
    },
    "tags": []
   },
   "source": [
    "# load data"
   ]
  },
  {
   "cell_type": "code",
   "execution_count": 3,
   "metadata": {
    "execution": {
     "iopub.execute_input": "2021-03-26T01:09:41.445643Z",
     "iopub.status.busy": "2021-03-26T01:09:41.444456Z",
     "iopub.status.idle": "2021-03-26T01:09:41.603266Z",
     "shell.execute_reply": "2021-03-26T01:09:41.603749Z"
    },
    "papermill": {
     "duration": 0.177347,
     "end_time": "2021-03-26T01:09:41.603981",
     "exception": false,
     "start_time": "2021-03-26T01:09:41.426634",
     "status": "completed"
    },
    "tags": []
   },
   "outputs": [
    {
     "data": {
      "text/plain": "       user_id  item_id  rating  timestamp\n0          196      242       3  881250949\n1          186      302       3  891717742\n2           22      377       1  878887116\n3          244       51       2  880606923\n4          166      346       1  886397596\n...        ...      ...     ...        ...\n99995      880      476       3  880175444\n99996      716      204       5  879795543\n99997      276     1090       1  874795795\n99998       13      225       2  882399156\n99999       12      203       3  879959583\n\n[100000 rows x 4 columns]",
      "text/html": "<div>\n<style scoped>\n    .dataframe tbody tr th:only-of-type {\n        vertical-align: middle;\n    }\n\n    .dataframe tbody tr th {\n        vertical-align: top;\n    }\n\n    .dataframe thead th {\n        text-align: right;\n    }\n</style>\n<table border=\"1\" class=\"dataframe\">\n  <thead>\n    <tr style=\"text-align: right;\">\n      <th></th>\n      <th>user_id</th>\n      <th>item_id</th>\n      <th>rating</th>\n      <th>timestamp</th>\n    </tr>\n  </thead>\n  <tbody>\n    <tr>\n      <th>0</th>\n      <td>196</td>\n      <td>242</td>\n      <td>3</td>\n      <td>881250949</td>\n    </tr>\n    <tr>\n      <th>1</th>\n      <td>186</td>\n      <td>302</td>\n      <td>3</td>\n      <td>891717742</td>\n    </tr>\n    <tr>\n      <th>2</th>\n      <td>22</td>\n      <td>377</td>\n      <td>1</td>\n      <td>878887116</td>\n    </tr>\n    <tr>\n      <th>3</th>\n      <td>244</td>\n      <td>51</td>\n      <td>2</td>\n      <td>880606923</td>\n    </tr>\n    <tr>\n      <th>4</th>\n      <td>166</td>\n      <td>346</td>\n      <td>1</td>\n      <td>886397596</td>\n    </tr>\n    <tr>\n      <th>...</th>\n      <td>...</td>\n      <td>...</td>\n      <td>...</td>\n      <td>...</td>\n    </tr>\n    <tr>\n      <th>99995</th>\n      <td>880</td>\n      <td>476</td>\n      <td>3</td>\n      <td>880175444</td>\n    </tr>\n    <tr>\n      <th>99996</th>\n      <td>716</td>\n      <td>204</td>\n      <td>5</td>\n      <td>879795543</td>\n    </tr>\n    <tr>\n      <th>99997</th>\n      <td>276</td>\n      <td>1090</td>\n      <td>1</td>\n      <td>874795795</td>\n    </tr>\n    <tr>\n      <th>99998</th>\n      <td>13</td>\n      <td>225</td>\n      <td>2</td>\n      <td>882399156</td>\n    </tr>\n    <tr>\n      <th>99999</th>\n      <td>12</td>\n      <td>203</td>\n      <td>3</td>\n      <td>879959583</td>\n    </tr>\n  </tbody>\n</table>\n<p>100000 rows × 4 columns</p>\n</div>"
     },
     "execution_count": 3,
     "metadata": {},
     "output_type": "execute_result"
    }
   ],
   "source": [
    "df = pd.read_csv(os.path.join(DATA_DIR, 'u.data'), sep='\\t', header=None)\n",
    "df.columns = ['user_id', 'item_id', 'rating', 'timestamp']\n",
    "#df = df.sort_values('timestamp').reset_index(drop=True)\n",
    "n_user = df.user_id.nunique()\n",
    "n_item = df.item_id.nunique()\n",
    "df"
   ]
  },
  {
   "cell_type": "code",
   "execution_count": 4,
   "metadata": {
    "execution": {
     "iopub.execute_input": "2021-03-26T01:09:41.635605Z",
     "iopub.status.busy": "2021-03-26T01:09:41.634427Z",
     "iopub.status.idle": "2021-03-26T01:09:41.641855Z",
     "shell.execute_reply": "2021-03-26T01:09:41.642512Z"
    },
    "papermill": {
     "duration": 0.02551,
     "end_time": "2021-03-26T01:09:41.642701",
     "exception": false,
     "start_time": "2021-03-26T01:09:41.617191",
     "status": "completed"
    },
    "tags": []
   },
   "outputs": [
    {
     "name": "stdout",
     "output_type": "stream",
     "text": [
      "user_num 943\n",
      "item_num 1682\n"
     ]
    }
   ],
   "source": [
    "print('user_num', n_user)\n",
    "print('item_num', n_item)"
   ]
  },
  {
   "cell_type": "markdown",
   "metadata": {
    "papermill": {
     "duration": 0.013617,
     "end_time": "2021-03-26T01:09:41.670548",
     "exception": false,
     "start_time": "2021-03-26T01:09:41.656931",
     "status": "completed"
    },
    "tags": []
   },
   "source": [
    "# split data"
   ]
  },
  {
   "cell_type": "code",
   "execution_count": 5,
   "metadata": {
    "execution": {
     "iopub.execute_input": "2021-03-26T01:09:41.707838Z",
     "iopub.status.busy": "2021-03-26T01:09:41.707104Z",
     "iopub.status.idle": "2021-03-26T01:09:41.831890Z",
     "shell.execute_reply": "2021-03-26T01:09:41.831105Z"
    },
    "papermill": {
     "duration": 0.146611,
     "end_time": "2021-03-26T01:09:41.832076",
     "exception": false,
     "start_time": "2021-03-26T01:09:41.685465",
     "status": "completed"
    },
    "tags": []
   },
   "outputs": [
    {
     "name": "stdout",
     "output_type": "stream",
     "text": [
      "(80000, 4) (20000, 4)\n"
     ]
    }
   ],
   "source": [
    "train_df, valid_df = train_test_split(df, test_size=0.2, stratify=df['user_id'], random_state=config.seed)\n",
    "assert train_df.user_id.nunique() == valid_df.user_id.nunique()\n",
    "print(train_df.shape, valid_df.shape)\n",
    "#print(valid_df.user_id.nunique())"
   ]
  },
  {
   "cell_type": "markdown",
   "metadata": {
    "papermill": {
     "duration": 0.014128,
     "end_time": "2021-03-26T01:09:41.860423",
     "exception": false,
     "start_time": "2021-03-26T01:09:41.846295",
     "status": "completed"
    },
    "tags": []
   },
   "source": [
    "# Dataset"
   ]
  },
  {
   "cell_type": "code",
   "execution_count": 6,
   "metadata": {
    "execution": {
     "iopub.execute_input": "2021-03-26T01:09:41.898503Z",
     "iopub.status.busy": "2021-03-26T01:09:41.897492Z",
     "iopub.status.idle": "2021-03-26T01:09:41.901437Z",
     "shell.execute_reply": "2021-03-26T01:09:41.900626Z"
    },
    "papermill": {
     "duration": 0.02706,
     "end_time": "2021-03-26T01:09:41.901610",
     "exception": false,
     "start_time": "2021-03-26T01:09:41.874550",
     "status": "completed"
    },
    "tags": []
   },
   "outputs": [],
   "source": [
    "class MovieLensDataset(Dataset):\n",
    "    def __init__(self, df):\n",
    "        self.df = df\n",
    "\n",
    "    def __len__(self):\n",
    "        return len(self.df)\n",
    "\n",
    "    def __getitem__(self, idx):\n",
    "        user_id, item_id, rating, _ = self.df.iloc[idx]\n",
    "        # index starts with 0\n",
    "        sample = {\"user\": user_id - 1, \"item\": item_id - 1, \"rating\": rating}\n",
    "        return sample"
   ]
  },
  {
   "cell_type": "markdown",
   "metadata": {
    "papermill": {
     "duration": 0.014285,
     "end_time": "2021-03-26T01:09:41.930232",
     "exception": false,
     "start_time": "2021-03-26T01:09:41.915947",
     "status": "completed"
    },
    "tags": []
   },
   "source": [
    "# model"
   ]
  },
  {
   "cell_type": "code",
   "execution_count": 7,
   "metadata": {
    "execution": {
     "iopub.execute_input": "2021-03-26T01:09:41.968939Z",
     "iopub.status.busy": "2021-03-26T01:09:41.968138Z",
     "iopub.status.idle": "2021-03-26T01:09:41.972096Z",
     "shell.execute_reply": "2021-03-26T01:09:41.971388Z"
    },
    "papermill": {
     "duration": 0.027902,
     "end_time": "2021-03-26T01:09:41.972265",
     "exception": false,
     "start_time": "2021-03-26T01:09:41.944363",
     "status": "completed"
    },
    "tags": []
   },
   "outputs": [],
   "source": [
    "class MatrixFactorizationPyTorch(nn.Module):\n",
    "    def __init__(self, n_user, n_item, k=20):\n",
    "        \"\"\"\n",
    "        n_user: user num\n",
    "        n_item: item num\n",
    "        k: embedding dim\n",
    "        \"\"\"\n",
    "        super().__init__()\n",
    "        self.user_factors = nn.Embedding(n_user, k, sparse=True)\n",
    "        self.item_factors = nn.Embedding(n_item, k, sparse=True)\n",
    "\n",
    "    def forward(self, user, item):\n",
    "        #print(user, item)\n",
    "        u_emb = self.user_factors(user)\n",
    "        i_emb = self.item_factors(item)\n",
    "        # print(u_emb.shape, i_emb.shape)\n",
    "        # print((u_emb * i_emb).shape)\n",
    "        # print((u_emb * i_emb).sum(axis=1).shape)\n",
    "        return (u_emb * i_emb).sum(axis=1)"
   ]
  },
  {
   "cell_type": "code",
   "execution_count": 8,
   "metadata": {
    "execution": {
     "iopub.execute_input": "2021-03-26T01:09:42.009996Z",
     "iopub.status.busy": "2021-03-26T01:09:42.009244Z",
     "iopub.status.idle": "2021-03-26T01:09:42.071280Z",
     "shell.execute_reply": "2021-03-26T01:09:42.070683Z"
    },
    "papermill": {
     "duration": 0.083443,
     "end_time": "2021-03-26T01:09:42.071447",
     "exception": false,
     "start_time": "2021-03-26T01:09:41.988004",
     "status": "completed"
    },
    "tags": []
   },
   "outputs": [
    {
     "data": {
      "text/plain": "{'user': tensor([416, 335]),\n 'item': tensor([1208,   62]),\n 'rating': tensor([3, 2])}"
     },
     "execution_count": 8,
     "metadata": {},
     "output_type": "execute_result"
    }
   ],
   "source": [
    "train_loader = DataLoader(MovieLensDataset(train_df), batch_size=2, shuffle=True,)\n",
    "next(iter(train_loader))"
   ]
  },
  {
   "cell_type": "code",
   "execution_count": 15,
   "metadata": {
    "execution": {
     "iopub.execute_input": "2021-03-26T01:09:42.109484Z",
     "iopub.status.busy": "2021-03-26T01:09:42.108533Z",
     "iopub.status.idle": "2021-03-26T01:09:42.186965Z",
     "shell.execute_reply": "2021-03-26T01:09:42.186233Z"
    },
    "papermill": {
     "duration": 0.100061,
     "end_time": "2021-03-26T01:09:42.187127",
     "exception": false,
     "start_time": "2021-03-26T01:09:42.087066",
     "status": "completed"
    },
    "tags": []
   },
   "outputs": [
    {
     "name": "stdout",
     "output_type": "stream",
     "text": [
      "tensor([547, 223, 523, 118, 589, 888, 278, 206])\n"
     ]
    }
   ],
   "source": [
    "data = next(iter(train_loader))\n",
    "user, item = data['user'], data['item']\n",
    "model = MatrixFactorizationPyTorch(n_user, n_item, k=config.embedding_dim)\n",
    "model(user, item)"
   ]
  },
  {
   "cell_type": "markdown",
   "metadata": {
    "papermill": {
     "duration": 0.015451,
     "end_time": "2021-03-26T01:09:42.217960",
     "exception": false,
     "start_time": "2021-03-26T01:09:42.202509",
     "status": "completed"
    },
    "tags": []
   },
   "source": [
    "# train"
   ]
  },
  {
   "cell_type": "code",
   "execution_count": 17,
   "metadata": {
    "execution": {
     "iopub.execute_input": "2021-03-26T01:09:42.265433Z",
     "iopub.status.busy": "2021-03-26T01:09:42.259919Z",
     "iopub.status.idle": "2021-03-26T01:09:42.274993Z",
     "shell.execute_reply": "2021-03-26T01:09:42.274308Z"
    },
    "papermill": {
     "duration": 0.039578,
     "end_time": "2021-03-26T01:09:42.275159",
     "exception": false,
     "start_time": "2021-03-26T01:09:42.235581",
     "status": "completed"
    },
    "tags": []
   },
   "outputs": [],
   "source": [
    "def train_one_epoch(epoch, model, loss_fn, optimizer,\n",
    "                    train_loader, device, scheduler=None):\n",
    "    model.train()\n",
    "    pbar = tqdm(enumerate(train_loader), total=len(train_loader))\n",
    "    data_cnt = 0\n",
    "    total_loss = 0.0\n",
    "\n",
    "    # 学習データをシャッフルしてループ\n",
    "    for step, data in pbar:\n",
    "        user = data['user']\n",
    "        item = data['item']\n",
    "        rating = data['rating']\n",
    "        data_cnt += user.shape[0]\n",
    "\n",
    "        # 勾配リセット\n",
    "        optimizer.zero_grad()\n",
    "\n",
    "        #順伝搬、逆伝搬\n",
    "        outputs = model(user, item)\n",
    "        #print('outupts', outputs)\n",
    "        #print(rating)\n",
    "        loss = loss_fn(outputs,  rating.float())\n",
    "        #print('loss', loss)\n",
    "        loss.backward()\n",
    "        optimizer.step()\n",
    "\n",
    "        total_loss += loss.item()\n",
    "        #print(total_loss)\n",
    "        if ((step + 1) % config.verbose_step == 0) or ((step + 1) == len(train_loader)):\n",
    "            description = f'train epoch {epoch} loss: {total_loss / data_cnt:.4f}'\n",
    "            pbar.set_description(description)\n",
    "\n",
    "    total_loss = total_loss / len(train_loader)\n",
    "    print('train loss = {:.4f}'.format(total_loss))\n",
    "\n",
    "def valid_one_epoch(epoch, model, loss_fn, val_loader, device):\n",
    "\n",
    "    model.eval()\n",
    "    total_loss = 0.0\n",
    "    data_cnt = 0\n",
    "    #preds = []\n",
    "    pbar = tqdm(enumerate(val_loader), total=len(val_loader))\n",
    "\n",
    "    for step, data in pbar:\n",
    "        user = data['user']\n",
    "        item = data['item']\n",
    "        rating = data['rating']\n",
    "        data_cnt += user.shape[0]\n",
    "\n",
    "        outputs = model(user, item)\n",
    "        loss = loss_fn(outputs, rating)\n",
    "        total_loss += loss\n",
    "        \n",
    "        # preds.append(outputs.detach().cpu().numpy())\n",
    "\n",
    "        if ((step + 1) % config.verbose_step == 0) or ((step + 1) == len(val_loader)):\n",
    "            description = f'val epoch {epoch} loss: {total_loss / data_cnt:.4f}'\n",
    "            pbar.set_description(description)\n",
    "        \n",
    "\n",
    "    valid_loss = total_loss / len(val_loader)\n",
    "    print('val loss = {:.4f}'.format(valid_loss))\n",
    "    return valid_loss \n",
    "\n",
    "def run_train(train_loader, valid_loader):\n",
    "    device = torch.device(config.device)\n",
    "    model = MatrixFactorizationPyTorch(n_user, n_item, k=config.embedding_dim)\n",
    "    loss_fn = nn.MSELoss()\n",
    "    optimizer = optim.SGD(model.parameters(), lr=config.lr)\n",
    "    best_loss=1e10\n",
    "    for epoch in range(config.epochs):\n",
    "        train_one_epoch(epoch, model, loss_fn, optimizer, train_loader, device)\n",
    "\n",
    "        with torch.no_grad():\n",
    "            val_loss = valid_one_epoch(epoch, model, loss_fn, valid_loader, device)\n",
    "        \n",
    "        if best_loss > val_loss:\n",
    "            best_loss = val_loss\n",
    "            best_rmse = torch.sqrt(best_loss)\n",
    "            best_epoch = epoch\n",
    "            # TODO: save model,  figure\n",
    "            best_path =  os.path.join(OUTPUT_DIR,f'best_model.bin')\n",
    "            torch.save({'model':model.state_dict(),},\n",
    "                           best_path)\n",
    "    print(f'----- result ------')\n",
    "    print(f'Best epoch: {epoch}')\n",
    "    print(f'Best loss: {best_loss}, RMSE: {best_rmse}')"
   ]
  },
  {
   "cell_type": "code",
   "execution_count": 11,
   "metadata": {
    "_kg_hide-output": true,
    "execution": {
     "iopub.execute_input": "2021-03-26T01:09:42.314171Z",
     "iopub.status.busy": "2021-03-26T01:09:42.313104Z",
     "iopub.status.idle": "2021-03-26T01:25:26.202614Z",
     "shell.execute_reply": "2021-03-26T01:25:26.202038Z"
    },
    "papermill": {
     "duration": 943.911865,
     "end_time": "2021-03-26T01:25:26.202790",
     "exception": false,
     "start_time": "2021-03-26T01:09:42.290925",
     "status": "completed"
    },
    "tags": []
   },
   "outputs": [
    {
     "name": "stderr",
     "output_type": "stream",
     "text": [
      "train epoch 0 loss: 3.2454: 100%|██████████| 10000/10000 [00:14<00:00, 694.64it/s]\n"
     ]
    },
    {
     "name": "stdout",
     "output_type": "stream",
     "text": [
      "train loss = 25.9629\n"
     ]
    },
    {
     "name": "stderr",
     "output_type": "stream",
     "text": [
      "val epoch 0 loss: 2.6013: 100%|██████████| 2500/2500 [00:01<00:00, 1771.44it/s]\n"
     ]
    },
    {
     "name": "stdout",
     "output_type": "stream",
     "text": [
      "val loss = 20.8102\n"
     ]
    },
    {
     "name": "stderr",
     "output_type": "stream",
     "text": [
      "train epoch 1 loss: 2.0078: 100%|██████████| 10000/10000 [00:10<00:00, 957.16it/s]\n"
     ]
    },
    {
     "name": "stdout",
     "output_type": "stream",
     "text": [
      "train loss = 16.0626\n"
     ]
    },
    {
     "name": "stderr",
     "output_type": "stream",
     "text": [
      "val epoch 1 loss: 1.9293: 100%|██████████| 2500/2500 [00:01<00:00, 1822.36it/s]\n"
     ]
    },
    {
     "name": "stdout",
     "output_type": "stream",
     "text": [
      "val loss = 15.4343\n"
     ]
    },
    {
     "name": "stderr",
     "output_type": "stream",
     "text": [
      "train epoch 2 loss: 1.2412: 100%|██████████| 10000/10000 [00:09<00:00, 1021.15it/s]\n"
     ]
    },
    {
     "name": "stdout",
     "output_type": "stream",
     "text": [
      "train loss = 9.9296\n"
     ]
    },
    {
     "name": "stderr",
     "output_type": "stream",
     "text": [
      "val epoch 2 loss: 1.2213: 100%|██████████| 2500/2500 [00:01<00:00, 1589.90it/s]\n"
     ]
    },
    {
     "name": "stdout",
     "output_type": "stream",
     "text": [
      "val loss = 9.7702\n"
     ]
    },
    {
     "name": "stderr",
     "output_type": "stream",
     "text": [
      "train epoch 3 loss: 0.7166: 100%|██████████| 10000/10000 [00:10<00:00, 915.06it/s]\n"
     ]
    },
    {
     "name": "stdout",
     "output_type": "stream",
     "text": [
      "train loss = 5.7325\n"
     ]
    },
    {
     "name": "stderr",
     "output_type": "stream",
     "text": [
      "val epoch 3 loss: 0.8394: 100%|██████████| 2500/2500 [00:01<00:00, 1735.66it/s]\n"
     ]
    },
    {
     "name": "stdout",
     "output_type": "stream",
     "text": [
      "val loss = 6.7152\n"
     ]
    },
    {
     "name": "stderr",
     "output_type": "stream",
     "text": [
      "train epoch 4 loss: 0.4744: 100%|██████████| 10000/10000 [00:10<00:00, 924.78it/s]\n"
     ]
    },
    {
     "name": "stdout",
     "output_type": "stream",
     "text": [
      "train loss = 3.7949\n"
     ]
    },
    {
     "name": "stderr",
     "output_type": "stream",
     "text": [
      "val epoch 4 loss: 0.6483: 100%|██████████| 2500/2500 [00:01<00:00, 1776.02it/s]\n"
     ]
    },
    {
     "name": "stdout",
     "output_type": "stream",
     "text": [
      "val loss = 5.1861\n"
     ]
    },
    {
     "name": "stderr",
     "output_type": "stream",
     "text": [
      "train epoch 5 loss: 0.3518: 100%|██████████| 10000/10000 [00:10<00:00, 962.73it/s]\n"
     ]
    },
    {
     "name": "stdout",
     "output_type": "stream",
     "text": [
      "train loss = 2.8143\n"
     ]
    },
    {
     "name": "stderr",
     "output_type": "stream",
     "text": [
      "val epoch 5 loss: 0.5387: 100%|██████████| 2500/2500 [00:01<00:00, 1616.84it/s]\n"
     ]
    },
    {
     "name": "stdout",
     "output_type": "stream",
     "text": [
      "val loss = 4.3097\n"
     ]
    },
    {
     "name": "stderr",
     "output_type": "stream",
     "text": [
      "train epoch 6 loss: 0.2810: 100%|██████████| 10000/10000 [00:10<00:00, 977.65it/s]\n"
     ]
    },
    {
     "name": "stdout",
     "output_type": "stream",
     "text": [
      "train loss = 2.2483\n"
     ]
    },
    {
     "name": "stderr",
     "output_type": "stream",
     "text": [
      "val epoch 6 loss: 0.4689: 100%|██████████| 2500/2500 [00:01<00:00, 1870.36it/s]\n"
     ]
    },
    {
     "name": "stdout",
     "output_type": "stream",
     "text": [
      "val loss = 3.7510\n"
     ]
    },
    {
     "name": "stderr",
     "output_type": "stream",
     "text": [
      "train epoch 7 loss: 0.2361: 100%|██████████| 10000/10000 [00:10<00:00, 953.43it/s]\n"
     ]
    },
    {
     "name": "stdout",
     "output_type": "stream",
     "text": [
      "train loss = 1.8886\n"
     ]
    },
    {
     "name": "stderr",
     "output_type": "stream",
     "text": [
      "val epoch 7 loss: 0.4210: 100%|██████████| 2500/2500 [00:01<00:00, 1831.30it/s]\n"
     ]
    },
    {
     "name": "stdout",
     "output_type": "stream",
     "text": [
      "val loss = 3.3678\n"
     ]
    },
    {
     "name": "stderr",
     "output_type": "stream",
     "text": [
      "train epoch 8 loss: 0.2055: 100%|██████████| 10000/10000 [00:10<00:00, 988.12it/s]\n"
     ]
    },
    {
     "name": "stdout",
     "output_type": "stream",
     "text": [
      "train loss = 1.6442\n"
     ]
    },
    {
     "name": "stderr",
     "output_type": "stream",
     "text": [
      "val epoch 8 loss: 0.3862: 100%|██████████| 2500/2500 [00:01<00:00, 1545.07it/s]\n"
     ]
    },
    {
     "name": "stdout",
     "output_type": "stream",
     "text": [
      "val loss = 3.0894\n"
     ]
    },
    {
     "name": "stderr",
     "output_type": "stream",
     "text": [
      "train epoch 9 loss: 0.1837: 100%|██████████| 10000/10000 [00:09<00:00, 1017.85it/s]\n"
     ]
    },
    {
     "name": "stdout",
     "output_type": "stream",
     "text": [
      "train loss = 1.4698\n"
     ]
    },
    {
     "name": "stderr",
     "output_type": "stream",
     "text": [
      "val epoch 9 loss: 0.3604: 100%|██████████| 2500/2500 [00:01<00:00, 1621.67it/s]\n"
     ]
    },
    {
     "name": "stdout",
     "output_type": "stream",
     "text": [
      "val loss = 2.8831\n"
     ]
    },
    {
     "name": "stderr",
     "output_type": "stream",
     "text": [
      "train epoch 10 loss: 0.1675: 100%|██████████| 10000/10000 [00:10<00:00, 920.45it/s]\n"
     ]
    },
    {
     "name": "stdout",
     "output_type": "stream",
     "text": [
      "train loss = 1.3397\n"
     ]
    },
    {
     "name": "stderr",
     "output_type": "stream",
     "text": [
      "val epoch 10 loss: 0.3400: 100%|██████████| 2500/2500 [00:01<00:00, 1651.05it/s]\n"
     ]
    },
    {
     "name": "stdout",
     "output_type": "stream",
     "text": [
      "val loss = 2.7202\n"
     ]
    },
    {
     "name": "stderr",
     "output_type": "stream",
     "text": [
      "train epoch 11 loss: 0.1550: 100%|██████████| 10000/10000 [00:10<00:00, 943.43it/s]\n"
     ]
    },
    {
     "name": "stdout",
     "output_type": "stream",
     "text": [
      "train loss = 1.2398\n"
     ]
    },
    {
     "name": "stderr",
     "output_type": "stream",
     "text": [
      "val epoch 11 loss: 0.3238: 100%|██████████| 2500/2500 [00:01<00:00, 1673.10it/s]\n"
     ]
    },
    {
     "name": "stdout",
     "output_type": "stream",
     "text": [
      "val loss = 2.5908\n"
     ]
    },
    {
     "name": "stderr",
     "output_type": "stream",
     "text": [
      "train epoch 12 loss: 0.1451: 100%|██████████| 10000/10000 [00:09<00:00, 1000.55it/s]\n"
     ]
    },
    {
     "name": "stdout",
     "output_type": "stream",
     "text": [
      "train loss = 1.1611\n"
     ]
    },
    {
     "name": "stderr",
     "output_type": "stream",
     "text": [
      "val epoch 12 loss: 0.3108: 100%|██████████| 2500/2500 [00:01<00:00, 1754.40it/s]\n"
     ]
    },
    {
     "name": "stdout",
     "output_type": "stream",
     "text": [
      "val loss = 2.4860\n"
     ]
    },
    {
     "name": "stderr",
     "output_type": "stream",
     "text": [
      "train epoch 13 loss: 0.1371: 100%|██████████| 10000/10000 [00:10<00:00, 957.35it/s]\n"
     ]
    },
    {
     "name": "stdout",
     "output_type": "stream",
     "text": [
      "train loss = 1.0971\n"
     ]
    },
    {
     "name": "stderr",
     "output_type": "stream",
     "text": [
      "val epoch 13 loss: 0.2995: 100%|██████████| 2500/2500 [00:01<00:00, 1797.15it/s]\n"
     ]
    },
    {
     "name": "stdout",
     "output_type": "stream",
     "text": [
      "val loss = 2.3959\n"
     ]
    },
    {
     "name": "stderr",
     "output_type": "stream",
     "text": [
      "train epoch 14 loss: 0.1306: 100%|██████████| 10000/10000 [00:10<00:00, 960.98it/s]\n"
     ]
    },
    {
     "name": "stdout",
     "output_type": "stream",
     "text": [
      "train loss = 1.0449\n"
     ]
    },
    {
     "name": "stderr",
     "output_type": "stream",
     "text": [
      "val epoch 14 loss: 0.2902: 100%|██████████| 2500/2500 [00:01<00:00, 1617.49it/s]\n"
     ]
    },
    {
     "name": "stdout",
     "output_type": "stream",
     "text": [
      "val loss = 2.3217\n"
     ]
    },
    {
     "name": "stderr",
     "output_type": "stream",
     "text": [
      "train epoch 15 loss: 0.1251: 100%|██████████| 10000/10000 [00:10<00:00, 934.21it/s]\n"
     ]
    },
    {
     "name": "stdout",
     "output_type": "stream",
     "text": [
      "train loss = 1.0009\n"
     ]
    },
    {
     "name": "stderr",
     "output_type": "stream",
     "text": [
      "val epoch 15 loss: 0.2825: 100%|██████████| 2500/2500 [00:01<00:00, 1835.25it/s]\n"
     ]
    },
    {
     "name": "stdout",
     "output_type": "stream",
     "text": [
      "val loss = 2.2599\n"
     ]
    },
    {
     "name": "stderr",
     "output_type": "stream",
     "text": [
      "train epoch 16 loss: 0.1205: 100%|██████████| 10000/10000 [00:09<00:00, 1039.15it/s]\n"
     ]
    },
    {
     "name": "stdout",
     "output_type": "stream",
     "text": [
      "train loss = 0.9638\n"
     ]
    },
    {
     "name": "stderr",
     "output_type": "stream",
     "text": [
      "val epoch 16 loss: 0.2756: 100%|██████████| 2500/2500 [00:01<00:00, 1573.16it/s]\n"
     ]
    },
    {
     "name": "stdout",
     "output_type": "stream",
     "text": [
      "val loss = 2.2049\n"
     ]
    },
    {
     "name": "stderr",
     "output_type": "stream",
     "text": [
      "train epoch 17 loss: 0.1165: 100%|██████████| 10000/10000 [00:08<00:00, 1164.98it/s]\n"
     ]
    },
    {
     "name": "stdout",
     "output_type": "stream",
     "text": [
      "train loss = 0.9319\n"
     ]
    },
    {
     "name": "stderr",
     "output_type": "stream",
     "text": [
      "val epoch 17 loss: 0.2697: 100%|██████████| 2500/2500 [00:01<00:00, 1955.92it/s]\n"
     ]
    },
    {
     "name": "stdout",
     "output_type": "stream",
     "text": [
      "val loss = 2.1575\n"
     ]
    },
    {
     "name": "stderr",
     "output_type": "stream",
     "text": [
      "train epoch 18 loss: 0.1131: 100%|██████████| 10000/10000 [00:08<00:00, 1177.13it/s]\n"
     ]
    },
    {
     "name": "stdout",
     "output_type": "stream",
     "text": [
      "train loss = 0.9045\n"
     ]
    },
    {
     "name": "stderr",
     "output_type": "stream",
     "text": [
      "val epoch 18 loss: 0.2643: 100%|██████████| 2500/2500 [00:01<00:00, 1746.80it/s]\n"
     ]
    },
    {
     "name": "stdout",
     "output_type": "stream",
     "text": [
      "val loss = 2.1144\n"
     ]
    },
    {
     "name": "stderr",
     "output_type": "stream",
     "text": [
      "train epoch 19 loss: 0.1101: 100%|██████████| 10000/10000 [00:08<00:00, 1179.15it/s]\n"
     ]
    },
    {
     "name": "stdout",
     "output_type": "stream",
     "text": [
      "train loss = 0.8804\n"
     ]
    },
    {
     "name": "stderr",
     "output_type": "stream",
     "text": [
      "val epoch 19 loss: 0.2597: 100%|██████████| 2500/2500 [00:01<00:00, 2008.13it/s]\n"
     ]
    },
    {
     "name": "stdout",
     "output_type": "stream",
     "text": [
      "val loss = 2.0779\n"
     ]
    },
    {
     "name": "stderr",
     "output_type": "stream",
     "text": [
      "train epoch 20 loss: 0.1074: 100%|██████████| 10000/10000 [00:08<00:00, 1186.35it/s]\n"
     ]
    },
    {
     "name": "stdout",
     "output_type": "stream",
     "text": [
      "train loss = 0.8591\n"
     ]
    },
    {
     "name": "stderr",
     "output_type": "stream",
     "text": [
      "val epoch 20 loss: 0.2555: 100%|██████████| 2500/2500 [00:01<00:00, 1990.90it/s]\n"
     ]
    },
    {
     "name": "stdout",
     "output_type": "stream",
     "text": [
      "val loss = 2.0438\n"
     ]
    },
    {
     "name": "stderr",
     "output_type": "stream",
     "text": [
      "train epoch 21 loss: 0.1050: 100%|██████████| 10000/10000 [00:08<00:00, 1149.09it/s]\n"
     ]
    },
    {
     "name": "stdout",
     "output_type": "stream",
     "text": [
      "train loss = 0.8402\n"
     ]
    },
    {
     "name": "stderr",
     "output_type": "stream",
     "text": [
      "val epoch 21 loss: 0.2520: 100%|██████████| 2500/2500 [00:01<00:00, 1703.42it/s]\n"
     ]
    },
    {
     "name": "stdout",
     "output_type": "stream",
     "text": [
      "val loss = 2.0161\n"
     ]
    },
    {
     "name": "stderr",
     "output_type": "stream",
     "text": [
      "train epoch 22 loss: 0.1029: 100%|██████████| 10000/10000 [00:08<00:00, 1174.06it/s]\n"
     ]
    },
    {
     "name": "stdout",
     "output_type": "stream",
     "text": [
      "train loss = 0.8233\n"
     ]
    },
    {
     "name": "stderr",
     "output_type": "stream",
     "text": [
      "val epoch 22 loss: 0.2486: 100%|██████████| 2500/2500 [00:01<00:00, 1988.62it/s]\n"
     ]
    },
    {
     "name": "stdout",
     "output_type": "stream",
     "text": [
      "val loss = 1.9887\n"
     ]
    },
    {
     "name": "stderr",
     "output_type": "stream",
     "text": [
      "train epoch 23 loss: 0.1010: 100%|██████████| 10000/10000 [00:08<00:00, 1167.45it/s]\n"
     ]
    },
    {
     "name": "stdout",
     "output_type": "stream",
     "text": [
      "train loss = 0.8081\n"
     ]
    },
    {
     "name": "stderr",
     "output_type": "stream",
     "text": [
      "val epoch 23 loss: 0.2457: 100%|██████████| 2500/2500 [00:01<00:00, 1850.36it/s]\n"
     ]
    },
    {
     "name": "stdout",
     "output_type": "stream",
     "text": [
      "val loss = 1.9657\n"
     ]
    },
    {
     "name": "stderr",
     "output_type": "stream",
     "text": [
      "train epoch 24 loss: 0.0993: 100%|██████████| 10000/10000 [00:08<00:00, 1186.26it/s]\n"
     ]
    },
    {
     "name": "stdout",
     "output_type": "stream",
     "text": [
      "train loss = 0.7942\n"
     ]
    },
    {
     "name": "stderr",
     "output_type": "stream",
     "text": [
      "val epoch 24 loss: 0.2428: 100%|██████████| 2500/2500 [00:01<00:00, 1993.62it/s]\n"
     ]
    },
    {
     "name": "stdout",
     "output_type": "stream",
     "text": [
      "val loss = 1.9425\n"
     ]
    },
    {
     "name": "stderr",
     "output_type": "stream",
     "text": [
      "train epoch 25 loss: 0.0977: 100%|██████████| 10000/10000 [00:08<00:00, 1180.84it/s]\n"
     ]
    },
    {
     "name": "stdout",
     "output_type": "stream",
     "text": [
      "train loss = 0.7817\n"
     ]
    },
    {
     "name": "stderr",
     "output_type": "stream",
     "text": [
      "val epoch 25 loss: 0.2405: 100%|██████████| 2500/2500 [00:01<00:00, 1891.79it/s]\n"
     ]
    },
    {
     "name": "stdout",
     "output_type": "stream",
     "text": [
      "val loss = 1.9236\n"
     ]
    },
    {
     "name": "stderr",
     "output_type": "stream",
     "text": [
      "train epoch 26 loss: 0.0963: 100%|██████████| 10000/10000 [00:08<00:00, 1161.69it/s]\n"
     ]
    },
    {
     "name": "stdout",
     "output_type": "stream",
     "text": [
      "train loss = 0.7701\n"
     ]
    },
    {
     "name": "stderr",
     "output_type": "stream",
     "text": [
      "val epoch 26 loss: 0.2383: 100%|██████████| 2500/2500 [00:01<00:00, 1990.94it/s]\n"
     ]
    },
    {
     "name": "stdout",
     "output_type": "stream",
     "text": [
      "val loss = 1.9063\n"
     ]
    },
    {
     "name": "stderr",
     "output_type": "stream",
     "text": [
      "train epoch 27 loss: 0.0949: 100%|██████████| 10000/10000 [00:08<00:00, 1129.87it/s]\n"
     ]
    },
    {
     "name": "stdout",
     "output_type": "stream",
     "text": [
      "train loss = 0.7595\n"
     ]
    },
    {
     "name": "stderr",
     "output_type": "stream",
     "text": [
      "val epoch 27 loss: 0.2362: 100%|██████████| 2500/2500 [00:01<00:00, 1674.65it/s]\n"
     ]
    },
    {
     "name": "stdout",
     "output_type": "stream",
     "text": [
      "val loss = 1.8896\n"
     ]
    },
    {
     "name": "stderr",
     "output_type": "stream",
     "text": [
      "train epoch 28 loss: 0.0937: 100%|██████████| 10000/10000 [00:08<00:00, 1143.29it/s]\n"
     ]
    },
    {
     "name": "stdout",
     "output_type": "stream",
     "text": [
      "train loss = 0.7498\n"
     ]
    },
    {
     "name": "stderr",
     "output_type": "stream",
     "text": [
      "val epoch 28 loss: 0.2342: 100%|██████████| 2500/2500 [00:01<00:00, 1981.43it/s]\n"
     ]
    },
    {
     "name": "stdout",
     "output_type": "stream",
     "text": [
      "val loss = 1.8739\n"
     ]
    },
    {
     "name": "stderr",
     "output_type": "stream",
     "text": [
      "train epoch 29 loss: 0.0926: 100%|██████████| 10000/10000 [00:08<00:00, 1189.18it/s]\n"
     ]
    },
    {
     "name": "stdout",
     "output_type": "stream",
     "text": [
      "train loss = 0.7407\n"
     ]
    },
    {
     "name": "stderr",
     "output_type": "stream",
     "text": [
      "val epoch 29 loss: 0.2326: 100%|██████████| 2500/2500 [00:01<00:00, 1999.75it/s]\n"
     ]
    },
    {
     "name": "stdout",
     "output_type": "stream",
     "text": [
      "val loss = 1.8611\n"
     ]
    },
    {
     "name": "stderr",
     "output_type": "stream",
     "text": [
      "train epoch 30 loss: 0.0915: 100%|██████████| 10000/10000 [00:08<00:00, 1173.15it/s]\n"
     ]
    },
    {
     "name": "stdout",
     "output_type": "stream",
     "text": [
      "train loss = 0.7324\n"
     ]
    },
    {
     "name": "stderr",
     "output_type": "stream",
     "text": [
      "val epoch 30 loss: 0.2310: 100%|██████████| 2500/2500 [00:01<00:00, 1853.00it/s]\n"
     ]
    },
    {
     "name": "stdout",
     "output_type": "stream",
     "text": [
      "val loss = 1.8478\n"
     ]
    },
    {
     "name": "stderr",
     "output_type": "stream",
     "text": [
      "train epoch 31 loss: 0.0906: 100%|██████████| 10000/10000 [00:08<00:00, 1177.88it/s]\n"
     ]
    },
    {
     "name": "stdout",
     "output_type": "stream",
     "text": [
      "train loss = 0.7244\n"
     ]
    },
    {
     "name": "stderr",
     "output_type": "stream",
     "text": [
      "val epoch 31 loss: 0.2295: 100%|██████████| 2500/2500 [00:01<00:00, 1982.76it/s]\n"
     ]
    },
    {
     "name": "stdout",
     "output_type": "stream",
     "text": [
      "val loss = 1.8356\n"
     ]
    },
    {
     "name": "stderr",
     "output_type": "stream",
     "text": [
      "train epoch 32 loss: 0.0896: 100%|██████████| 10000/10000 [00:08<00:00, 1182.58it/s]\n"
     ]
    },
    {
     "name": "stdout",
     "output_type": "stream",
     "text": [
      "train loss = 0.7170\n"
     ]
    },
    {
     "name": "stderr",
     "output_type": "stream",
     "text": [
      "val epoch 32 loss: 0.2281: 100%|██████████| 2500/2500 [00:01<00:00, 1916.84it/s]\n"
     ]
    },
    {
     "name": "stdout",
     "output_type": "stream",
     "text": [
      "val loss = 1.8250\n"
     ]
    },
    {
     "name": "stderr",
     "output_type": "stream",
     "text": [
      "train epoch 33 loss: 0.0887: 100%|██████████| 10000/10000 [00:08<00:00, 1151.23it/s]\n"
     ]
    },
    {
     "name": "stdout",
     "output_type": "stream",
     "text": [
      "train loss = 0.7100\n"
     ]
    },
    {
     "name": "stderr",
     "output_type": "stream",
     "text": [
      "val epoch 33 loss: 0.2269: 100%|██████████| 2500/2500 [00:01<00:00, 1996.91it/s]\n"
     ]
    },
    {
     "name": "stdout",
     "output_type": "stream",
     "text": [
      "val loss = 1.8150\n"
     ]
    },
    {
     "name": "stderr",
     "output_type": "stream",
     "text": [
      "train epoch 34 loss: 0.0879: 100%|██████████| 10000/10000 [00:08<00:00, 1189.91it/s]\n"
     ]
    },
    {
     "name": "stdout",
     "output_type": "stream",
     "text": [
      "train loss = 0.7032\n"
     ]
    },
    {
     "name": "stderr",
     "output_type": "stream",
     "text": [
      "val epoch 34 loss: 0.2256: 100%|██████████| 2500/2500 [00:01<00:00, 2003.91it/s]\n"
     ]
    },
    {
     "name": "stdout",
     "output_type": "stream",
     "text": [
      "val loss = 1.8047\n"
     ]
    },
    {
     "name": "stderr",
     "output_type": "stream",
     "text": [
      "train epoch 35 loss: 0.0872: 100%|██████████| 10000/10000 [00:09<00:00, 1104.24it/s]\n"
     ]
    },
    {
     "name": "stdout",
     "output_type": "stream",
     "text": [
      "train loss = 0.6975\n"
     ]
    },
    {
     "name": "stderr",
     "output_type": "stream",
     "text": [
      "val epoch 35 loss: 0.2245: 100%|██████████| 2500/2500 [00:01<00:00, 1918.75it/s]\n"
     ]
    },
    {
     "name": "stdout",
     "output_type": "stream",
     "text": [
      "val loss = 1.7963\n"
     ]
    },
    {
     "name": "stderr",
     "output_type": "stream",
     "text": [
      "train epoch 36 loss: 0.0864: 100%|██████████| 10000/10000 [00:08<00:00, 1185.89it/s]\n"
     ]
    },
    {
     "name": "stdout",
     "output_type": "stream",
     "text": [
      "train loss = 0.6914\n"
     ]
    },
    {
     "name": "stderr",
     "output_type": "stream",
     "text": [
      "val epoch 36 loss: 0.2235: 100%|██████████| 2500/2500 [00:01<00:00, 2000.75it/s]\n"
     ]
    },
    {
     "name": "stdout",
     "output_type": "stream",
     "text": [
      "val loss = 1.7881\n"
     ]
    },
    {
     "name": "stderr",
     "output_type": "stream",
     "text": [
      "train epoch 37 loss: 0.0857: 100%|██████████| 10000/10000 [00:08<00:00, 1172.77it/s]\n"
     ]
    },
    {
     "name": "stdout",
     "output_type": "stream",
     "text": [
      "train loss = 0.6858\n"
     ]
    },
    {
     "name": "stderr",
     "output_type": "stream",
     "text": [
      "val epoch 37 loss: 0.2228: 100%|██████████| 2500/2500 [00:01<00:00, 1836.39it/s]\n"
     ]
    },
    {
     "name": "stdout",
     "output_type": "stream",
     "text": [
      "val loss = 1.7821\n"
     ]
    },
    {
     "name": "stderr",
     "output_type": "stream",
     "text": [
      "train epoch 38 loss: 0.0851: 100%|██████████| 10000/10000 [00:08<00:00, 1174.52it/s]\n"
     ]
    },
    {
     "name": "stdout",
     "output_type": "stream",
     "text": [
      "train loss = 0.6807\n"
     ]
    },
    {
     "name": "stderr",
     "output_type": "stream",
     "text": [
      "val epoch 38 loss: 0.2216: 100%|██████████| 2500/2500 [00:01<00:00, 1989.12it/s]\n"
     ]
    },
    {
     "name": "stdout",
     "output_type": "stream",
     "text": [
      "val loss = 1.7732\n"
     ]
    },
    {
     "name": "stderr",
     "output_type": "stream",
     "text": [
      "train epoch 39 loss: 0.0845: 100%|██████████| 10000/10000 [00:08<00:00, 1186.32it/s]\n"
     ]
    },
    {
     "name": "stdout",
     "output_type": "stream",
     "text": [
      "train loss = 0.6757\n"
     ]
    },
    {
     "name": "stderr",
     "output_type": "stream",
     "text": [
      "val epoch 39 loss: 0.2209: 100%|██████████| 2500/2500 [00:01<00:00, 1996.06it/s]"
     ]
    },
    {
     "name": "stdout",
     "output_type": "stream",
     "text": [
      "val loss = 1.7674\n",
      "----- result ------\n",
      "Best epoch: 39\n",
      "Best loss: 1.7673780918121338, RMSE: 1.329427719116211\n"
     ]
    },
    {
     "name": "stderr",
     "output_type": "stream",
     "text": [
      "\n"
     ]
    }
   ],
   "source": [
    "train_loader = DataLoader(MovieLensDataset(train_df), batch_size=config.train_bs, shuffle=True,)\n",
    "valid_loader = DataLoader(MovieLensDataset(valid_df), batch_size=config.valid_bs, shuffle=False,)\n",
    "run_train(train_loader, valid_loader)"
   ]
  },
  {
   "cell_type": "markdown",
   "metadata": {
    "papermill": {
     "duration": 4.416231,
     "end_time": "2021-03-26T01:25:35.148123",
     "exception": false,
     "start_time": "2021-03-26T01:25:30.731892",
     "status": "completed"
    },
    "tags": []
   },
   "source": [
    "# get recommendation"
   ]
  },
  {
   "cell_type": "code",
   "execution_count": 12,
   "metadata": {
    "execution": {
     "iopub.execute_input": "2021-03-26T01:25:44.410166Z",
     "iopub.status.busy": "2021-03-26T01:25:44.409485Z",
     "iopub.status.idle": "2021-03-26T01:25:44.455551Z",
     "shell.execute_reply": "2021-03-26T01:25:44.454933Z"
    },
    "papermill": {
     "duration": 4.704906,
     "end_time": "2021-03-26T01:25:44.455716",
     "exception": false,
     "start_time": "2021-03-26T01:25:39.750810",
     "status": "completed"
    },
    "tags": []
   },
   "outputs": [
    {
     "data": {
      "text/plain": "   movie_id              title release_date  video_release_date  \\\n0         1   Toy Story (1995)  01-Jan-1995                 NaN   \n1         2   GoldenEye (1995)  01-Jan-1995                 NaN   \n2         3  Four Rooms (1995)  01-Jan-1995                 NaN   \n3         4  Get Shorty (1995)  01-Jan-1995                 NaN   \n4         5     Copycat (1995)  01-Jan-1995                 NaN   \n\n                                            imdb_url  \n0  http://us.imdb.com/M/title-exact?Toy%20Story%2...  \n1  http://us.imdb.com/M/title-exact?GoldenEye%20(...  \n2  http://us.imdb.com/M/title-exact?Four%20Rooms%...  \n3  http://us.imdb.com/M/title-exact?Get%20Shorty%...  \n4  http://us.imdb.com/M/title-exact?Copycat%20(1995)  ",
      "text/html": "<div>\n<style scoped>\n    .dataframe tbody tr th:only-of-type {\n        vertical-align: middle;\n    }\n\n    .dataframe tbody tr th {\n        vertical-align: top;\n    }\n\n    .dataframe thead th {\n        text-align: right;\n    }\n</style>\n<table border=\"1\" class=\"dataframe\">\n  <thead>\n    <tr style=\"text-align: right;\">\n      <th></th>\n      <th>movie_id</th>\n      <th>title</th>\n      <th>release_date</th>\n      <th>video_release_date</th>\n      <th>imdb_url</th>\n    </tr>\n  </thead>\n  <tbody>\n    <tr>\n      <th>0</th>\n      <td>1</td>\n      <td>Toy Story (1995)</td>\n      <td>01-Jan-1995</td>\n      <td>NaN</td>\n      <td>http://us.imdb.com/M/title-exact?Toy%20Story%2...</td>\n    </tr>\n    <tr>\n      <th>1</th>\n      <td>2</td>\n      <td>GoldenEye (1995)</td>\n      <td>01-Jan-1995</td>\n      <td>NaN</td>\n      <td>http://us.imdb.com/M/title-exact?GoldenEye%20(...</td>\n    </tr>\n    <tr>\n      <th>2</th>\n      <td>3</td>\n      <td>Four Rooms (1995)</td>\n      <td>01-Jan-1995</td>\n      <td>NaN</td>\n      <td>http://us.imdb.com/M/title-exact?Four%20Rooms%...</td>\n    </tr>\n    <tr>\n      <th>3</th>\n      <td>4</td>\n      <td>Get Shorty (1995)</td>\n      <td>01-Jan-1995</td>\n      <td>NaN</td>\n      <td>http://us.imdb.com/M/title-exact?Get%20Shorty%...</td>\n    </tr>\n    <tr>\n      <th>4</th>\n      <td>5</td>\n      <td>Copycat (1995)</td>\n      <td>01-Jan-1995</td>\n      <td>NaN</td>\n      <td>http://us.imdb.com/M/title-exact?Copycat%20(1995)</td>\n    </tr>\n  </tbody>\n</table>\n</div>"
     },
     "execution_count": 12,
     "metadata": {},
     "output_type": "execute_result"
    }
   ],
   "source": [
    "m_cols = ['movie_id', 'title', 'release_date', 'video_release_date', 'imdb_url']\n",
    "item_df = pd.read_csv(os.path.join(DATA_DIR, 'u.item'), sep='|', encoding=\"iso-8859-1\", usecols=range(5), names=m_cols)\n",
    "item_df.head()"
   ]
  },
  {
   "cell_type": "code",
   "execution_count": 13,
   "metadata": {
    "execution": {
     "iopub.execute_input": "2021-03-26T01:25:53.506396Z",
     "iopub.status.busy": "2021-03-26T01:25:53.505659Z",
     "iopub.status.idle": "2021-03-26T01:25:53.509877Z",
     "shell.execute_reply": "2021-03-26T01:25:53.508741Z"
    },
    "papermill": {
     "duration": 4.508635,
     "end_time": "2021-03-26T01:25:53.510035",
     "exception": false,
     "start_time": "2021-03-26T01:25:49.001400",
     "status": "completed"
    },
    "tags": []
   },
   "outputs": [],
   "source": [
    "def load_model():\n",
    "    best_path = os.path.join(OUTPUT_DIR, 'best_model.bin')\n",
    "    model = MatrixFactorizationPyTorch(n_user, n_item, k=config.embedding_dim)\n",
    "    model.load_state_dict(torch.load(best_path)['model'])\n",
    "    return model\n",
    "\n",
    "def predict_rating(rec_df):\n",
    "    model = load_model()\n",
    "    model.eval()\n",
    "    dataloader = DataLoader(MovieLensDataset(rec_df), batch_size=10, shuffle=False,)\n",
    "    pbar = tqdm(dataloader, total=len(dataloader))\n",
    "    preds = []\n",
    "    for data in pbar:\n",
    "        user_id = data['user']\n",
    "        item_id = data['item']\n",
    "        rating = data['rating']\n",
    "\n",
    "        preds += model(user_id, item_id)\n",
    "\n",
    "    return torch.stack(preds).detach().numpy()\n",
    "\n",
    "def recommend_for_user(user_id, rating_df, item_df, top_n=10):\n",
    "    # Extract data that user have never seen.\n",
    "    rec_df = rating_df.query(\"user_id != @user_id\")\n",
    "    rec_df['user_id'] = user_id\n",
    "    rec_df = rec_df.drop_duplicates(subset=['user_id','item_id'])\n",
    "\n",
    "    # predict rating\n",
    "    rec_df['rating'] = predict_rating(rec_df)\n",
    "    \n",
    "    # clip rating\n",
    "    # I don't know if this is the right way...\n",
    "    rec_df = rec_df.query('0.5 <= rating <= 5.5 ')\n",
    "\n",
    "    # add title column \n",
    "    d = dict(zip(item_df.movie_id, item_df.title))\n",
    "    rec_df['title'] = rec_df['item_id'].map(d)\n",
    "    rec_df = rec_df.sort_values('rating', ascending=False)\n",
    "\n",
    "    # show recommended movies\n",
    "    print('-'*30 + 'recommendations' + '-'*30)\n",
    "    print(rec_df[['title','rating']].head(top_n))\n",
    "#     for i, row in rec_df.head(top_n).iterrows():\n",
    "#         title, rating = row['title'],row['rating']\n",
    "#         print(f'{i:}: title:{title}  score:{rating}')\n",
    "\n",
    "    # show movies which user have watched before\n",
    "    user_df = rating_df.query(\"user_id == @user_id\")\n",
    "    user_df['title'] = user_df['item_id'].map(d)\n",
    "    user_df = user_df.sort_values('rating', ascending=False)\n",
    "\n",
    "    print('-'*30 + 'watched_movies' + '-'*30)\n",
    "    print(user_df[['title','rating']].head(top_n))\n",
    "#     for i, row in user_df.head(top_n).iterrows():\n",
    "#         title, rating = row['title'], row['rating']\n",
    "#         print(f'{i}: title:{title}  score:{rating}')\n",
    "\n"
   ]
  },
  {
   "cell_type": "code",
   "execution_count": 14,
   "metadata": {
    "execution": {
     "iopub.execute_input": "2021-03-26T01:26:02.449274Z",
     "iopub.status.busy": "2021-03-26T01:26:02.448619Z",
     "iopub.status.idle": "2021-03-26T01:26:02.810078Z",
     "shell.execute_reply": "2021-03-26T01:26:02.810634Z"
    },
    "papermill": {
     "duration": 4.865368,
     "end_time": "2021-03-26T01:26:02.810831",
     "exception": false,
     "start_time": "2021-03-26T01:25:57.945463",
     "status": "completed"
    },
    "tags": []
   },
   "outputs": [
    {
     "name": "stderr",
     "output_type": "stream",
     "text": [
      "C:\\Users\\505\\AppData\\Local\\Temp\\ipykernel_13924\\1978447906.py:25: SettingWithCopyWarning: \n",
      "A value is trying to be set on a copy of a slice from a DataFrame.\n",
      "Try using .loc[row_indexer,col_indexer] = value instead\n",
      "\n",
      "See the caveats in the documentation: https://pandas.pydata.org/pandas-docs/stable/user_guide/indexing.html#returning-a-view-versus-a-copy\n",
      "  rec_df['user_id'] = user_id\n"
     ]
    },
    {
     "name": "stdout",
     "output_type": "stream",
     "text": [
      "726\n"
     ]
    },
    {
     "name": "stderr",
     "output_type": "stream",
     "text": [
      "100%|██████████| 169/169 [00:00<00:00, 1255.21it/s]"
     ]
    },
    {
     "name": "stdout",
     "output_type": "stream",
     "text": [
      "------------------------------recommendations------------------------------\n",
      "                                  title    rating\n",
      "1669                  Kalifornia (1993)  5.499646\n",
      "2039             Man of the Year (1995)  5.496773\n",
      "608    Island of Dr. Moreau, The (1996)  5.487639\n",
      "14316              Shooting Fish (1997)  5.444240\n",
      "2923            Daytrippers, The (1996)  5.411543\n",
      "327              MatchMaker, The (1997)  5.379460\n",
      "24927                      Bliss (1997)  5.372055\n",
      "4156                 Bulletproof (1996)  5.363232\n",
      "511                   Home Alone (1990)  5.349087\n",
      "22974                Schizopolis (1996)  5.335552\n",
      "------------------------------watched_movies------------------------------\n",
      "                                                   title  rating\n",
      "97778                                       Bogus (1996)       5\n",
      "89183                                   Liar Liar (1997)       5\n",
      "63948  Don't Be a Menace to South Central While Drink...       5\n",
      "77922                                 Bulletproof (1996)       5\n",
      "97761                               Birdcage, The (1996)       4\n",
      "51586                                     Sabrina (1995)       4\n",
      "88412                                   Toy Story (1995)       4\n",
      "64214                              Rainmaker, The (1997)       4\n",
      "48432                          That Thing You Do! (1996)       3\n",
      "83199                                        Jack (1996)       3\n"
     ]
    },
    {
     "name": "stderr",
     "output_type": "stream",
     "text": [
      "\n",
      "C:\\Users\\505\\AppData\\Local\\Temp\\ipykernel_13924\\1978447906.py:37: SettingWithCopyWarning: \n",
      "A value is trying to be set on a copy of a slice from a DataFrame.\n",
      "Try using .loc[row_indexer,col_indexer] = value instead\n",
      "\n",
      "See the caveats in the documentation: https://pandas.pydata.org/pandas-docs/stable/user_guide/indexing.html#returning-a-view-versus-a-copy\n",
      "  rec_df['title'] = rec_df['item_id'].map(d)\n",
      "C:\\Users\\505\\AppData\\Local\\Temp\\ipykernel_13924\\1978447906.py:49: SettingWithCopyWarning: \n",
      "A value is trying to be set on a copy of a slice from a DataFrame.\n",
      "Try using .loc[row_indexer,col_indexer] = value instead\n",
      "\n",
      "See the caveats in the documentation: https://pandas.pydata.org/pandas-docs/stable/user_guide/indexing.html#returning-a-view-versus-a-copy\n",
      "  user_df['title'] = user_df['item_id'].map(d)\n"
     ]
    }
   ],
   "source": [
    "user_id = random.choice(df.user_id.values)\n",
    "print(user_id)\n",
    "recommend_for_user(user_id, df, item_df)"
   ]
  },
  {
   "cell_type": "code",
   "execution_count": null,
   "metadata": {
    "papermill": {
     "duration": 4.666093,
     "end_time": "2021-03-26T01:26:12.004324",
     "exception": false,
     "start_time": "2021-03-26T01:26:07.338231",
     "status": "completed"
    },
    "tags": [],
    "pycharm": {
     "is_executing": true
    }
   },
   "outputs": [],
   "source": []
  },
  {
   "cell_type": "code",
   "execution_count": 14,
   "outputs": [],
   "source": [],
   "metadata": {
    "collapsed": false
   }
  }
 ],
 "metadata": {
  "kernelspec": {
   "display_name": "Python 3",
   "language": "python",
   "name": "python3"
  },
  "language_info": {
   "codemirror_mode": {
    "name": "ipython",
    "version": 3
   },
   "file_extension": ".py",
   "mimetype": "text/x-python",
   "name": "python",
   "nbconvert_exporter": "python",
   "pygments_lexer": "ipython3",
   "version": "3.7.9"
  },
  "papermill": {
   "default_parameters": {},
   "duration": 1006.409922,
   "end_time": "2021-03-26T01:26:17.513739",
   "environment_variables": {},
   "exception": null,
   "input_path": "__notebook__.ipynb",
   "output_path": "__notebook__.ipynb",
   "parameters": {},
   "start_time": "2021-03-26T01:09:31.103817",
   "version": "2.2.2"
  }
 },
 "nbformat": 4,
 "nbformat_minor": 4
}
